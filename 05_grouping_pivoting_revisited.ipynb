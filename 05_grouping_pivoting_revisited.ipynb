{
 "cells": [
  {
   "cell_type": "code",
   "execution_count": 1,
   "metadata": {
    "collapsed": true
   },
   "outputs": [],
   "source": [
    "import pandas as pd\n",
    "import matplotlib\n",
    "%matplotlib inline \n",
    "import numpy as np"
   ]
  },
  {
   "cell_type": "markdown",
   "metadata": {},
   "source": [
    "# More Stacking"
   ]
  },
  {
   "cell_type": "code",
   "execution_count": 2,
   "metadata": {},
   "outputs": [
    {
     "name": "stderr",
     "output_type": "stream",
     "text": [
      "/opt/conda/lib/python3.6/site-packages/IPython/core/interactiveshell.py:2698: DtypeWarning: Columns (70,71,72,73,74,76,79) have mixed types. Specify dtype option on import or set low_memory=False.\n",
      "  interactivity=interactivity, compiler=compiler, result=result)\n"
     ]
    }
   ],
   "source": [
    "# We briefly talked about stacking in the pivot section, here we will\n",
    "# dive in a little more.\n",
    "# Vehicle data - https://www.fueleconomy.gov/feg/download.shtml\n",
    "# Datasets for All Model Years (1984–2018)\n",
    "auto = pd.read_csv('data/vehicles.csv.zip')"
   ]
  },
  {
   "cell_type": "code",
   "execution_count": null,
   "metadata": {
    "collapsed": true,
    "scrolled": false
   },
   "outputs": [],
   "source": [
    "auto.head()"
   ]
  },
  {
   "cell_type": "code",
   "execution_count": null,
   "metadata": {
    "collapsed": true,
    "scrolled": false
   },
   "outputs": [],
   "source": [
    "auto.head().T"
   ]
  },
  {
   "cell_type": "code",
   "execution_count": null,
   "metadata": {
    "collapsed": true
   },
   "outputs": [],
   "source": [
    "auto.columns"
   ]
  },
  {
   "cell_type": "code",
   "execution_count": null,
   "metadata": {
    "collapsed": true,
    "scrolled": true
   },
   "outputs": [],
   "source": [
    "auto.dtypes"
   ]
  },
  {
   "cell_type": "code",
   "execution_count": null,
   "metadata": {
    "collapsed": true
   },
   "outputs": [],
   "source": [
    "# guzzler- if G or T, this vehicle is subject to the gas guzzler tax\n",
    "auto.guzzler.value_counts()"
   ]
  },
  {
   "cell_type": "code",
   "execution_count": 3,
   "metadata": {
    "scrolled": true
   },
   "outputs": [
    {
     "data": {
      "text/plain": [
       "make\n",
       "AM General                               6\n",
       "ASC Incorporated                         1\n",
       "Acura                                  310\n",
       "Alfa Romeo                              54\n",
       "American Motors Corporation             27\n",
       "Aston Martin                           142\n",
       "Audi                                   944\n",
       "Aurora Cars Ltd                          1\n",
       "Autokraft Limited                        4\n",
       "Avanti Motor Corporation                 2\n",
       "Azure Dynamics                           2\n",
       "BMW                                   1807\n",
       "BMW Alpina                               3\n",
       "BYD                                      5\n",
       "Bentley                                122\n",
       "Bertone                                  7\n",
       "Bill Dovell Motor Car Company            4\n",
       "Bitter Gmbh and Co. Kg                   5\n",
       "Bugatti                                  9\n",
       "Buick                                  641\n",
       "CCC Engineering                          2\n",
       "CODA Automotive                          2\n",
       "CX Automotive                           17\n",
       "Cadillac                               554\n",
       "Chevrolet                             3900\n",
       "Chrysler                               718\n",
       "Consulier Industries Inc                 3\n",
       "Dabryan Coach Builders Inc               9\n",
       "Dacia                                    3\n",
       "Daewoo                                  67\n",
       "                                      ... \n",
       "Rolls-Royce                            179\n",
       "Roush Performance                       57\n",
       "Ruf Automobile Gmbh                      3\n",
       "S and S Coach Company  E.p. Dutton       1\n",
       "SRT                                      2\n",
       "Saab                                   432\n",
       "Saleen                                   5\n",
       "Saleen Performance                       5\n",
       "Saturn                                 278\n",
       "Scion                                   84\n",
       "Shelby                                   1\n",
       "Spyker                                  13\n",
       "Sterling                                12\n",
       "Subaru                                 856\n",
       "Superior Coaches Div E.p. Dutton         1\n",
       "Suzuki                                 515\n",
       "TVR Engineering Ltd                      4\n",
       "Tecstar, LP                              6\n",
       "Tesla                                   46\n",
       "Texas Coach Company                      4\n",
       "Toyota                                1976\n",
       "VPG                                      5\n",
       "Vector                                   4\n",
       "Vixen Motor Company                      1\n",
       "Volga Associated Automobile              1\n",
       "Volkswagen                            1131\n",
       "Volvo                                  786\n",
       "Wallace Environmental                   32\n",
       "Yugo                                     8\n",
       "smart                                   33\n",
       "Length: 134, dtype: int64"
      ]
     },
     "execution_count": 3,
     "metadata": {},
     "output_type": "execute_result"
    }
   ],
   "source": [
    "auto.groupby('make').size()"
   ]
  },
  {
   "cell_type": "code",
   "execution_count": 4,
   "metadata": {
    "scrolled": true
   },
   "outputs": [
    {
     "data": {
      "text/plain": [
       "year  make                         \n",
       "1984  AM General                         4\n",
       "      Alfa Romeo                         4\n",
       "      American Motors Corporation       20\n",
       "      Aston Martin                       6\n",
       "      Audi                              26\n",
       "      Avanti Motor Corporation           2\n",
       "      BMW                               16\n",
       "      Bertone                            2\n",
       "      Bill Dovell Motor Car Company      2\n",
       "      Bitter Gmbh and Co. Kg             2\n",
       "      Buick                             84\n",
       "      Cadillac                          17\n",
       "      Chevrolet                        250\n",
       "      Chrysler                          42\n",
       "      Dodge                            191\n",
       "      Ford                             236\n",
       "      GMC                              156\n",
       "      Grumman Olson                      2\n",
       "      Honda                             24\n",
       "      Import Foreign Auto Sales Inc      1\n",
       "      Isuzu                             30\n",
       "      Jaguar                             3\n",
       "      Jeep                              49\n",
       "      Kenyon Corporation Of America      4\n",
       "      Lamborghini                        2\n",
       "      Lincoln                            9\n",
       "      Lotus                              2\n",
       "      Maserati                           4\n",
       "      Mazda                             28\n",
       "      Mercedes-Benz                     27\n",
       "                                      ... \n",
       "2018  Dodge                             26\n",
       "      Ferrari                            9\n",
       "      Fiat                               1\n",
       "      Ford                              53\n",
       "      GMC                               44\n",
       "      Genesis                           10\n",
       "      Honda                             16\n",
       "      Hyundai                           24\n",
       "      Infiniti                          15\n",
       "      Jaguar                            27\n",
       "      Jeep                              18\n",
       "      Karma                              1\n",
       "      Kia                               33\n",
       "      Lamborghini                        4\n",
       "      Land Rover                         3\n",
       "      Lexus                              4\n",
       "      Lincoln                           17\n",
       "      MINI                              36\n",
       "      Maserati                          10\n",
       "      Mazda                             10\n",
       "      Mercedes-Benz                     70\n",
       "      Mitsubishi                         4\n",
       "      Nissan                            10\n",
       "      Porsche                           50\n",
       "      Ram                                4\n",
       "      Rolls-Royce                        6\n",
       "      Subaru                            20\n",
       "      Toyota                            39\n",
       "      Volkswagen                        16\n",
       "      Volvo                             27\n",
       "Length: 1673, dtype: int64"
      ]
     },
     "execution_count": 4,
     "metadata": {},
     "output_type": "execute_result"
    }
   ],
   "source": [
    "auto.groupby(['year', 'make']).size()"
   ]
  },
  {
   "cell_type": "code",
   "execution_count": null,
   "metadata": {
    "collapsed": true,
    "scrolled": true
   },
   "outputs": [],
   "source": [
    "auto.groupby(['year', 'make']).size().unstack(1)"
   ]
  },
  {
   "cell_type": "code",
   "execution_count": null,
   "metadata": {
    "collapsed": true,
    "scrolled": true
   },
   "outputs": [],
   "source": [
    "# .stack undoes .unstack\n",
    "auto.groupby(['year', 'make']).size().unstack(1).stack()"
   ]
  },
  {
   "cell_type": "code",
   "execution_count": null,
   "metadata": {
    "collapsed": true,
    "scrolled": true
   },
   "outputs": [],
   "source": [
    "# By default .unstack does innermost level (in this case 1)\n",
    "auto.groupby(['year', 'make']).size().unstack(0)"
   ]
  },
  {
   "cell_type": "code",
   "execution_count": null,
   "metadata": {
    "collapsed": true,
    "scrolled": true
   },
   "outputs": [],
   "source": [
    "# If index has name we can use that\n",
    "auto.groupby(['year', 'make']).size().unstack('make')"
   ]
  },
  {
   "cell_type": "code",
   "execution_count": null,
   "metadata": {
    "collapsed": true,
    "scrolled": true
   },
   "outputs": [],
   "source": [
    "# If index has name we can use that\n",
    "auto.groupby(['year', 'make']).size().unstack('year')"
   ]
  },
  {
   "cell_type": "code",
   "execution_count": null,
   "metadata": {
    "collapsed": true
   },
   "outputs": [],
   "source": [
    "# get Ford through Lexus\n",
    "auto.groupby(['year', 'make']).size().unstack().loc[:,'Ford':'Lexus'].\\\n",
    "plot(figsize=(14,10)) "
   ]
  },
  {
   "cell_type": "code",
   "execution_count": null,
   "metadata": {
    "collapsed": true
   },
   "outputs": [],
   "source": [
    "# Wrap with parens to allow per line \"flow\" style\n",
    "(\n",
    "auto.groupby(['year', 'make'])\n",
    "    .size()\n",
    "    .unstack('make')\n",
    "    .loc[:,'Ford':'Lexus']\n",
    "    .plot(figsize=(14,10)) \n",
    ")"
   ]
  },
  {
   "cell_type": "code",
   "execution_count": null,
   "metadata": {
    "collapsed": true
   },
   "outputs": [],
   "source": [
    "# Just look at Ford, Lexus, & Toyota\n",
    "auto.groupby(['year', 'make']).size().unstack('make').loc[:,['Ford', 'Lexus', 'Toyota']].\\\n",
    "plot(kind='bar', figsize=(14,10)) "
   ]
  },
  {
   "cell_type": "code",
   "execution_count": null,
   "metadata": {
    "collapsed": true
   },
   "outputs": [],
   "source": [
    "# get the average gas mileage per year\n",
    "auto.groupby(['year', 'make'])['city08'].mean().unstack('make').\\\n",
    "loc[:,['Ford', 'BMW', 'Toyota', 'Honda']].\\\n",
    "plot(figsize=(14,10)) "
   ]
  },
  {
   "cell_type": "code",
   "execution_count": null,
   "metadata": {
    "collapsed": true
   },
   "outputs": [],
   "source": [
    "# Get the 70% quantile for each mfr\n",
    "auto.groupby(['year', 'make'])['city08'].quantile(.7).unstack('make').\\\n",
    "loc[:,['Ford', 'BMW', 'Toyota', 'Honda']].\\\n",
    "plot(subplots=True, sort_columns=True, figsize=(14,10)) "
   ]
  },
  {
   "cell_type": "code",
   "execution_count": null,
   "metadata": {
    "collapsed": true
   },
   "outputs": [],
   "source": [
    "# Add the drive\n",
    "(\n",
    "auto.groupby(['year', 'make', 'drive'])['city08'].mean()\n",
    ")"
   ]
  },
  {
   "cell_type": "code",
   "execution_count": null,
   "metadata": {
    "collapsed": true
   },
   "outputs": [],
   "source": [
    "# Can unstack multiple times\n",
    "(\n",
    "auto.groupby(['year', 'make', 'drive'])['city08'].mean()\n",
    "    .unstack('drive').unstack('make')\n",
    ")"
   ]
  },
  {
   "cell_type": "code",
   "execution_count": null,
   "metadata": {
    "collapsed": true,
    "scrolled": false
   },
   "outputs": [],
   "source": [
    "# Can unstack multiple times\n",
    "(\n",
    "auto.groupby(['year', 'make', 'drive'])['city08'].mean()\n",
    "    .loc[(slice(None), # all years\n",
    "          \"Ford\",    # Ford rows\n",
    "          [\"Rear-Wheel Drive\"])]\n",
    "    .unstack('drive').unstack('year')\n",
    ")"
   ]
  },
  {
   "cell_type": "code",
   "execution_count": null,
   "metadata": {
    "collapsed": true,
    "scrolled": false
   },
   "outputs": [],
   "source": [
    "# Can unstack multiple times\n",
    "(\n",
    "auto.groupby(['year', 'make', 'drive'])['city08'].mean()\n",
    "    .loc[(slice(None), # all years\n",
    "          \"Ford\",    # Ford rows\n",
    "          [\"Rear-Wheel Drive\"])]  # if we don't make a list here the index won't have drive\n",
    "    .unstack('drive').unstack('year')\n",
    ")"
   ]
  },
  {
   "cell_type": "code",
   "execution_count": null,
   "metadata": {
    "collapsed": true,
    "scrolled": false
   },
   "outputs": [],
   "source": [
    "# Simpler may be better\n",
    "(\n",
    "auto.groupby(['year', 'make', 'drive'])['city08'].mean()\n",
    "    .loc[(slice(None), # all years\n",
    "          \"Ford\",    # Ford rows\n",
    "          \"Rear-Wheel Drive\")]\n",
    "    .plot(figsize=(14,10))\n",
    ")"
   ]
  },
  {
   "cell_type": "markdown",
   "metadata": {},
   "source": [
    "## Stacking Assignment\n",
    "\n",
    "* For each Escape (model) in Ford (make) show the by year avg mpg (city08) in tabular form.\n",
    "* Visualize the result"
   ]
  },
  {
   "cell_type": "code",
   "execution_count": null,
   "metadata": {
    "collapsed": true
   },
   "outputs": [],
   "source": []
  },
  {
   "cell_type": "code",
   "execution_count": null,
   "metadata": {
    "collapsed": true
   },
   "outputs": [],
   "source": []
  },
  {
   "cell_type": "code",
   "execution_count": null,
   "metadata": {
    "collapsed": true
   },
   "outputs": [],
   "source": []
  },
  {
   "cell_type": "code",
   "execution_count": null,
   "metadata": {
    "collapsed": true
   },
   "outputs": [],
   "source": []
  },
  {
   "cell_type": "markdown",
   "metadata": {},
   "source": [
    "## Extra Groupby"
   ]
  },
  {
   "cell_type": "code",
   "execution_count": null,
   "metadata": {
    "collapsed": true
   },
   "outputs": [],
   "source": [
    "# Find best mpg for each year/make\n",
    "auto.loc[auto.groupby(['year', 'make']).city08.idxmax()][['year', 'make', 'model', 'city08']]"
   ]
  },
  {
   "cell_type": "code",
   "execution_count": null,
   "metadata": {
    "collapsed": true
   },
   "outputs": [],
   "source": [
    "# only show ford\n",
    "res = auto.loc[auto.groupby(['year', 'make']).city08.idxmax()][['year', 'make', 'model', 'city08']]\n",
    "res[res.make.isin(['Ford'])]"
   ]
  }
 ],
 "metadata": {
  "kernelspec": {
   "display_name": "Python 3",
   "language": "python",
   "name": "python3"
  },
  "language_info": {
   "codemirror_mode": {
    "name": "ipython",
    "version": 3
   },
   "file_extension": ".py",
   "mimetype": "text/x-python",
   "name": "python",
   "nbconvert_exporter": "python",
   "pygments_lexer": "ipython3",
   "version": "3.6.2"
  }
 },
 "nbformat": 4,
 "nbformat_minor": 2
}
